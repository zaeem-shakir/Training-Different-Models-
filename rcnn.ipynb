{
  "nbformat": 4,
  "nbformat_minor": 0,
  "metadata": {
    "colab": {
      "provenance": []
    },
    "kernelspec": {
      "name": "python3",
      "display_name": "Python 3"
    },
    "language_info": {
      "name": "python"
    }
  },
  "cells": [
    {
      "cell_type": "code",
      "execution_count": 2,
      "metadata": {
        "id": "hfHXcidZcsMP"
      },
      "outputs": [],
      "source": [
        "import keras\n",
        "from keras.models import Sequential\n",
        "from keras.layers import Conv2D, MaxPooling2D, Flatten, Dense, Input\n",
        "from keras.layers import BatchNormalization\n",
        "from sklearn.metrics import precision_score, recall_score\n"
      ]
    },
    {
      "cell_type": "code",
      "source": [
        "import numpy as np"
      ],
      "metadata": {
        "id": "ZNri-8c5dLDR"
      },
      "execution_count": 4,
      "outputs": []
    },
    {
      "cell_type": "code",
      "source": [
        "from keras.datasets import cifar10\n",
        "\n",
        "# Load the CIFAR-10 data\n",
        "(X_train, Y_train), (X_test, Y_test) = cifar10.load_data()"
      ],
      "metadata": {
        "colab": {
          "base_uri": "https://localhost:8080/"
        },
        "id": "LL9cBdIFd49v",
        "outputId": "0db100d6-b4e4-417c-9ad2-1af36f492c2f"
      },
      "execution_count": 5,
      "outputs": [
        {
          "output_type": "stream",
          "name": "stdout",
          "text": [
            "Downloading data from https://www.cs.toronto.edu/~kriz/cifar-10-python.tar.gz\n",
            "170498071/170498071 [==============================] - 11s 0us/step\n"
          ]
        }
      ]
    },
    {
      "cell_type": "code",
      "source": [
        "X_train_scaled = X_train / 255.0\n",
        "X_test_scaled = X_test / 255.0\n",
        "\n",
        "# Convert labels to a flat list\n",
        "Y_train_flat = Y_train.flatten()\n",
        "Y_test_flat = Y_test.flatten()\n",
        "\n",
        "num_of_classes = 10"
      ],
      "metadata": {
        "id": "d7LSuIVAeBVV"
      },
      "execution_count": 6,
      "outputs": []
    },
    {
      "cell_type": "code",
      "source": [
        "# Simple R-CNN-like model\n",
        "model_rcnn = Sequential()\n",
        "\n",
        "# Region Proposal Network (RPN)\n",
        "model_rcnn.add(Conv2D(64, (3, 3), activation='relu', padding='same', input_shape=(32, 32, 3)))\n",
        "model_rcnn.add(BatchNormalization())\n",
        "model_rcnn.add(MaxPooling2D((2, 2)))"
      ],
      "metadata": {
        "id": "iS4AS1pIeSVO"
      },
      "execution_count": 7,
      "outputs": []
    },
    {
      "cell_type": "code",
      "source": [
        "# Feature extraction\n",
        "model_rcnn.add(Conv2D(128, (3, 3), activation='relu', padding='same'))\n",
        "model_rcnn.add(BatchNormalization())\n",
        "model_rcnn.add(MaxPooling2D((2, 2)))"
      ],
      "metadata": {
        "id": "oXkJXIXmeYSh"
      },
      "execution_count": 8,
      "outputs": []
    },
    {
      "cell_type": "code",
      "source": [
        "# Flatten and fully connected layers\n",
        "model_rcnn.add(Flatten())\n",
        "model_rcnn.add(Dense(256, activation='relu'))\n",
        "model_rcnn.add(Dense(num_of_classes, activation='softmax'))"
      ],
      "metadata": {
        "id": "5z9a9g0debvH"
      },
      "execution_count": 9,
      "outputs": []
    },
    {
      "cell_type": "code",
      "source": [
        "# Compile the model\n",
        "model_rcnn.compile(optimizer='adam', loss='sparse_categorical_crossentropy', metrics=['accuracy'])"
      ],
      "metadata": {
        "id": "jg3Buu2ceef8"
      },
      "execution_count": 10,
      "outputs": []
    },
    {
      "cell_type": "code",
      "source": [
        "# Train the R-CNN-like model\n",
        "history_rcnn = model_rcnn.fit(X_train_scaled, Y_train_flat, validation_split=0.1, epochs=10)"
      ],
      "metadata": {
        "colab": {
          "base_uri": "https://localhost:8080/"
        },
        "id": "92Y-Dc_Ceg48",
        "outputId": "5b06d890-16a4-4169-904e-c7a6083d9774"
      },
      "execution_count": 11,
      "outputs": [
        {
          "output_type": "stream",
          "name": "stdout",
          "text": [
            "Epoch 1/10\n",
            "1407/1407 [==============================] - 297s 210ms/step - loss: 1.3226 - accuracy: 0.5437 - val_loss: 1.5263 - val_accuracy: 0.4976\n",
            "Epoch 2/10\n",
            "1407/1407 [==============================] - 291s 207ms/step - loss: 0.9278 - accuracy: 0.6763 - val_loss: 1.3542 - val_accuracy: 0.5542\n",
            "Epoch 3/10\n",
            "1407/1407 [==============================] - 287s 204ms/step - loss: 0.7670 - accuracy: 0.7315 - val_loss: 0.9435 - val_accuracy: 0.6796\n",
            "Epoch 4/10\n",
            "1407/1407 [==============================] - 272s 193ms/step - loss: 0.6287 - accuracy: 0.7830 - val_loss: 1.0659 - val_accuracy: 0.6720\n",
            "Epoch 5/10\n",
            "1407/1407 [==============================] - 275s 196ms/step - loss: 0.5113 - accuracy: 0.8221 - val_loss: 1.0551 - val_accuracy: 0.6726\n",
            "Epoch 6/10\n",
            "1407/1407 [==============================] - 275s 195ms/step - loss: 0.4013 - accuracy: 0.8604 - val_loss: 1.8315 - val_accuracy: 0.5810\n",
            "Epoch 7/10\n",
            "1407/1407 [==============================] - 270s 192ms/step - loss: 0.3031 - accuracy: 0.8938 - val_loss: 1.1975 - val_accuracy: 0.6850\n",
            "Epoch 8/10\n",
            "1407/1407 [==============================] - 269s 191ms/step - loss: 0.2461 - accuracy: 0.9145 - val_loss: 1.4738 - val_accuracy: 0.6658\n",
            "Epoch 9/10\n",
            "1407/1407 [==============================] - 271s 192ms/step - loss: 0.1971 - accuracy: 0.9313 - val_loss: 1.4615 - val_accuracy: 0.6896\n",
            "Epoch 10/10\n",
            "1407/1407 [==============================] - 281s 200ms/step - loss: 0.1658 - accuracy: 0.9435 - val_loss: 1.3783 - val_accuracy: 0.7054\n"
          ]
        }
      ]
    },
    {
      "cell_type": "code",
      "source": [
        "# Evaluate the R-CNN-like model\n",
        "loss_rcnn, accuracy_rcnn = model_rcnn.evaluate(X_test_scaled, Y_test_flat)\n",
        "print('R-CNN-like Model - Test Accuracy =', accuracy_rcnn)"
      ],
      "metadata": {
        "colab": {
          "base_uri": "https://localhost:8080/"
        },
        "id": "CkAAY7OrekPw",
        "outputId": "860f75ff-3fb9-4a5e-9d90-a626b5e2d513"
      },
      "execution_count": 12,
      "outputs": [
        {
          "output_type": "stream",
          "name": "stdout",
          "text": [
            "313/313 [==============================] - 15s 49ms/step - loss: 1.4394 - accuracy: 0.6956\n",
            "R-CNN-like Model - Test Accuracy = 0.6955999732017517\n"
          ]
        }
      ]
    },
    {
      "cell_type": "code",
      "source": [
        "# Predictions on the test set\n",
        "Y_test_pred_rcnn = model_rcnn.predict(X_test_scaled)\n",
        "Y_test_pred_rcnn_classes = np.argmax(Y_test_pred_rcnn, axis=1)"
      ],
      "metadata": {
        "colab": {
          "base_uri": "https://localhost:8080/"
        },
        "id": "zt9apYHBpjNW",
        "outputId": "bb5d79cd-f25f-47f1-efb2-09c4e6668841"
      },
      "execution_count": 13,
      "outputs": [
        {
          "output_type": "stream",
          "name": "stdout",
          "text": [
            "313/313 [==============================] - 16s 49ms/step\n"
          ]
        }
      ]
    },
    {
      "cell_type": "code",
      "source": [
        "# Calculate metrics for the R-CNN-like model\n",
        "precision_rcnn = precision_score(Y_test_flat, Y_test_pred_rcnn_classes, average='weighted')\n",
        "recall_rcnn = recall_score(Y_test_flat, Y_test_pred_rcnn_classes, average='weighted')"
      ],
      "metadata": {
        "id": "kBEw4nuOptL-"
      },
      "execution_count": 14,
      "outputs": []
    },
    {
      "cell_type": "code",
      "source": [
        "print('R-CNN-like Model Metrics:')\n",
        "print('Precision:', precision_rcnn)\n",
        "print('Recall:', recall_rcnn)\n",
        "print('Test Accuracy =', accuracy_rcnn)"
      ],
      "metadata": {
        "colab": {
          "base_uri": "https://localhost:8080/"
        },
        "id": "2nz0fpd7p0RK",
        "outputId": "ae22e40d-1ce8-44a5-df3a-0d1ec93eff23"
      },
      "execution_count": 15,
      "outputs": [
        {
          "output_type": "stream",
          "name": "stdout",
          "text": [
            "R-CNN-like Model Metrics:\n",
            "Precision: 0.7173482701915144\n",
            "Recall: 0.6956\n",
            "Test Accuracy = 0.6955999732017517\n"
          ]
        }
      ]
    },
    {
      "cell_type": "code",
      "source": [],
      "metadata": {
        "id": "S769EXwvp40_"
      },
      "execution_count": null,
      "outputs": []
    }
  ]
}